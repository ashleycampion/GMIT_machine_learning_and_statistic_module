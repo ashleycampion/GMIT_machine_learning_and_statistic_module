{
 "cells": [
  {
   "cell_type": "markdown",
   "metadata": {},
   "source": [
    "# Tasks\n",
    "### This workbook contains my solutions to the tasks for the Machine Learning and Statistics Module"
   ]
  },
  {
   "cell_type": "markdown",
   "metadata": {},
   "source": [
    "\n",
    "\n",
    "\n",
    "\n",
    "#### Task 1 - October 5th, 2020 \n",
    "Write a Python function called sqrt2 that calculates and prints to the screen the square root of 2 to 100 decimal places. Your code should not depend on any module from the standard library or otherwise. You should research the task first and include references and a description of your algorithm.\n",
    "#### Research\n",
    "Newton's method [1] can be used to calculate the square root of a number by first taking a guess and then iteratively moving closer toward the actual square root. According to Newton's method, one can approach further toward the square root of a number, x, from an initial guess of the square root, z, as follows:\n",
    "\n",
    "$$ z_{next} = z - \\frac{z^2-x}{2z} $$\n",
    "\n",
    "Newton's method is of course straightforward to program in Python - one uses Python's operators (-, * and /) to perform each instance of the calculation, and then one instructs the program to keep performing the calculation, using the output of the previous instance as the input to the next, until the square of the output is however close to the number that one is trying to get the square root of (one could say to within 0.001, for example). One would then specify to how many decimal places one would like one's calculated root to have, in this instance, 100.\n",
    "\n",
    "However, there are two impediments to calculating the square root of 2 to a precision to 100 decimal places without using any Python modules, as anyone who tries will quickly find out:\n",
    "1. Decimal point numbers do not have exact representations in binary floating point, which is essentially what Python's float datatype is, and which is the only datatype available for displaying decimal numbers in Python without the use of modules such as Decimal [2]. This means that we will not likely be able to achieve the accuracy required to display the square root of two to 100 decimal places with precision, i.e. exactly, as in order to do so we would have to perform many very precise calculations involving floating point numbers, which are themselves by definition not exact, i.e. imprecise.\n",
    "2. Python is simply not able to store 100 decimal places in a floating point number\n",
    "\n",
    "It is important to note, however, that the problem is not with the Python operators (-, * and /) or loops, but only the float datatype itself. This means that if we could somehow use the other numerical datatype that does not need to be imported in Python, i.e. the integer, to perform the calculation, we should not have a problem - except, that is, for the fact that the integer datatype by does not cater to decimal places.\n",
    "\n",
    "The trick, then, is to forget about decimal places during the calculation itself, and then insert the decimal place afterwards using the string datatype. What if, instead of calculating the square root of two, we calculated the first hundred digits of the square root of: $$2\\times10^{100000000}$$\n",
    "\n",
    "Looking at the two numbers as strings, the only difference would be that one has a '.' and the other does not; and because integers have exact representations in Python's integer datatype, we should not come across any imprecision as we would have using the float datatype. Credit to here [4] for this solution.\n",
    "\n",
    "What will thus been shown as part of my solution is as follows:\n",
    "1. Python's Math module's sqrt function is not accurate to the 100th decimal place (we will use NASA's calculation of the root of 2 to ~ million decimal places as our comparison [3]), nor is it able to even provide 100 decimal places. From this we can infer that the inaccuracy resides in thh datatype used by this function, namely, the float.\n",
    "2. Python's Decimal module's sqrt function is accurate to 100 decimal places, again indicating that Python's float datatype is what is at issue above.\n",
    "3. Python's float datatype cannot calculate the square root of two such that the difference between the actual root squared and the calculated root squared is less than .0001.\n",
    "4. The square root of two can be calculated by using the integer datatype to calculate the square root of *2\\*10^100000000* and then converting it to a string, slicing to retain only the first 100 characters, and then dutifully inserting the decimal point.\n",
    "\n",
    "\n",
    "[1] https://mathworld.wolfram.com/NewtonsMethod.html\n",
    "\n",
    "[2] https://docs.python.org/2/library/decimal.html\n",
    "\n",
    "[3] https://stackoverflow.com/questions/22162522/how-to-display-a-decimal-number-to-100-decimal-places\n",
    "\n",
    "[4] https://stackoverflow.com/questions/64295245/how-to-get-the-square-root-of-a-number-to-100-decimal-places-without-using-any-l"
   ]
  },
  {
   "cell_type": "code",
   "execution_count": 1,
   "metadata": {},
   "outputs": [
    {
     "data": {
      "text/plain": [
       "2.0000000000000004"
      ]
     },
     "execution_count": 1,
     "metadata": {},
     "output_type": "execute_result"
    }
   ],
   "source": [
    "# hint at the inaccuracy of the sqrt function in the\n",
    "# Math module, which uses floats\n",
    "from math import sqrt\n",
    "sqrt(2)**2"
   ]
  },
  {
   "cell_type": "code",
   "execution_count": 2,
   "metadata": {},
   "outputs": [
    {
     "name": "stdout",
     "output_type": "stream",
     "text": [
      "1.4142135623730951454746218587388284504413604736328125000000000000000000000000000000000000000000000000\n",
      "100\n"
     ]
    }
   ],
   "source": [
    "# print the Math module's square root of 2 to 100\n",
    "# decimal places\n",
    "answer = \"%.100f\" % sqrt(2)\n",
    "print(answer)\n",
    "# confirm that there are 100 decimal places\n",
    "print(len(str((answer))) - 2)"
   ]
  },
  {
   "cell_type": "code",
   "execution_count": 3,
   "metadata": {},
   "outputs": [
    {
     "name": "stdout",
     "output_type": "stream",
     "text": [
      "Python's Math module's sqrt function is accurate to the 15th place, although it provides an answer to the 51th place.\n"
     ]
    }
   ],
   "source": [
    "# we will take NASA's calculation of the root of 2\n",
    "# as accurate to 100 decimal places\n",
    "nasa = \"1.41421356237309504880168872420969807856967187537694807317667973799073247846210703885038753432764157273501384623091229702492483605585073721264412149709993583141322266592750559275579995050115278206057147010955997160597027453459686201472851...\"\n",
    "nasa = nasa[:101]\n",
    "# check at which decimal place the Math module\n",
    "# becomes inaccurate, and thus floats likely\n",
    "# become inaccurate\n",
    "for i in range(102):\n",
    "    if str(answer)[i] != nasa[i]:\n",
    "        accuracy = i - 2\n",
    "        break\n",
    "# check how many places (inaccurate or otherwise)\n",
    "# the math module can calculate the root of 2 to\n",
    "for i in range(102):\n",
    "    if str(answer)[i] != \"0\":\n",
    "        x = 0\n",
    "    if str(answer)[i] == \"0\":\n",
    "               x+=1\n",
    "    if x == 4:\n",
    "        place = i-2-x\n",
    "        break\n",
    "print(\"Python's Math module's sqrt function is accurate to the \" + str(accuracy) + \"th place, although it provides an answer to the \" + str(place) + \"th place.\")"
   ]
  },
  {
   "cell_type": "code",
   "execution_count": 4,
   "metadata": {},
   "outputs": [
    {
     "name": "stdout",
     "output_type": "stream",
     "text": [
      "1.414213562373095048801688724209698078569671875376948073176679737990732478462107038850387534327641572\n",
      "1.414213562373095048801688724209698078569671875376948073176679737990732478462107038850387534327641573\n",
      "True\n"
     ]
    }
   ],
   "source": [
    "# show that the Decimal module can calculate the\n",
    "# square root of 2 to 100 decimal places, by \n",
    "# comparing with NASA's figure, above\n",
    "from decimal import Decimal, getcontext\n",
    "# set the decimal point precision to 100\n",
    "getcontext().prec = 100\n",
    "# get the decimal square root of 3\n",
    "Decimal(2).sqrt()\n",
    "print(nasa)\n",
    "print(Decimal(2).sqrt())\n",
    "# as the NASA has not been rounded, \n",
    "# we will check the first 99 decimal values\n",
    "# for simplicity instead\n",
    "print(str(Decimal(2).sqrt())[:100] == nasa[:100])"
   ]
  },
  {
   "cell_type": "code",
   "execution_count": 5,
   "metadata": {},
   "outputs": [
    {
     "data": {
      "text/plain": [
       "Decimal('-4.44089209850062616169452667236328125E-16')"
      ]
     },
     "execution_count": 5,
     "metadata": {},
     "output_type": "execute_result"
    }
   ],
   "source": [
    "# Find the difference between 2 and the square root of 2\n",
    "# to a hundred decimal places squared\n",
    "# note that this number is far smaller than that for\n",
    "# the Math module's function (.0000000000000004)\n",
    "Decimal(2 - 1.414213562373095048801688724209698078569671875376948073176679737990732478462107038850387534327641573 ** 2)"
   ]
  },
  {
   "cell_type": "code",
   "execution_count": 6,
   "metadata": {},
   "outputs": [],
   "source": [
    "# design an algorithm implementing Newton's Method\n",
    "# Newton's method: better guess = 0.5 * (guess + number / guess)\n",
    "# store the desired precision in a variable\n",
    "# we decide on the precision outside of the function itself\n",
    "# as the requirements of the question do not indicate\n",
    "# that precision should be inputted as a parameter to the function\n",
    "def squareRootOfTwo():\n",
    "    # store 2 in a variable so that we are not\n",
    "    number = 2\n",
    "    # hardcoding values\n",
    "    # have the function take a guess\n",
    "    guess = 1.5\n",
    "    # while the guess is not of a sufficient accuracy,\n",
    "    # apply Newton's algorithm to improve it.\n",
    "    # To check the accuracy of the guess, square it and\n",
    "    # check if the absolute difference between the result \n",
    "    # and the input is less than the desired precision.\n",
    "    while abs(guess ** 2 - number) > precision:\n",
    "        # if greater than the precision, apply Newton's alogrithm\n",
    "        guess = guess - ((guess ** 2 - number) / 2 * guess)\n",
    "        # once the guess is sufficiently accurate the while\n",
    "        # loop ends. Now round the result to your liking\n",
    "    print(\"%.100f\" % guess)\n",
    "    return str(answer)"
   ]
  },
  {
   "cell_type": "code",
   "execution_count": 7,
   "metadata": {},
   "outputs": [
    {
     "name": "stdout",
     "output_type": "stream",
     "text": [
      "1.4177445877362315762582056777318939566612243652343750000000000000000000000000000000000000000000000000\n",
      "0.0 seconds taken\n",
      "Running our function so that the square of the calculated square root of two is between 1.9 and 2.1 provides an approximation of the square root of two to the 51th place.\n"
     ]
    }
   ],
   "source": [
    "# Now we will test Newton's method for calculating\n",
    "# the square of two, and time the calculation\n",
    "import time\n",
    "precision = 0.01\n",
    "start = time.time()\n",
    "answer = squareRootOfTwo()\n",
    "end = time.time()\n",
    "print(str(round(end - start, 1)) + \" seconds taken\")\n",
    "# check how many places (inaccurate or otherwise)\n",
    "# this run of the algorithm calculated the root of 2 to\n",
    "for i in range(len(answer)):\n",
    "    if str(answer)[i] != \"0\":\n",
    "        x = 0\n",
    "    if str(answer)[i] == \"0\":\n",
    "               x+=1\n",
    "    if x == 4:\n",
    "        place = i-2-x\n",
    "        break\n",
    "print(\"Running our function so that the square of the calculated square root of two is between 1.9 and 2.1 provides an approximation of the square root of two to the \" + str(place) + \"th place.\")"
   ]
  },
  {
   "cell_type": "code",
   "execution_count": 8,
   "metadata": {},
   "outputs": [
    {
     "name": "stdout",
     "output_type": "stream",
     "text": [
      "1.4145670714723390659628421417437493801116943359375000000000000000000000000000000000000000000000000000\n",
      "1.0 seconds taken\n",
      "Running our function so that the square of the calculated square root of two is between 1.99 and 2.01 provides an approximation of the square root of two to the 51th place.\n"
     ]
    }
   ],
   "source": [
    "# Same again but to a precision of 0.001\n",
    "# note the increase from 89.6 seconds to seconds\n",
    "import time\n",
    "precision = 0.001\n",
    "start = time.time()\n",
    "answer = squareRootOfTwo()\n",
    "end = time.time()\n",
    "print(str(round(end - start, 1)) + \" seconds taken\")\n",
    "# check how many places (inaccurate or otherwise)\n",
    "# this run of the algorithm calculated the root of 2 to\n",
    "for i in range(len(answer)):\n",
    "    if str(answer)[i] != \"0\":\n",
    "        x = 0\n",
    "    if str(answer)[i] == \"0\":\n",
    "               x+=1\n",
    "    if x == 4:\n",
    "        place = i-2-x\n",
    "        break\n",
    "print(\"Running our function so that the square of the calculated square root of two is between 1.99 and 2.01 provides an approximation of the square root of two to the \" + str(place) + \"th place.\")"
   ]
  },
  {
   "cell_type": "code",
   "execution_count": 9,
   "metadata": {
    "scrolled": true
   },
   "outputs": [
    {
     "name": "stdout",
     "output_type": "stream",
     "text": [
      "1.4142489172699921340381479240022599697113037109375000000000000000000000000000000000000000000000000000\n",
      "90.0 seconds taken\n",
      "Running our function so that the square of the calculated square root of two is between 1.999 and 2.001 provides an approximation of the square root of two to the 51th place.\n"
     ]
    }
   ],
   "source": [
    "# Same again but to a precision of 0.0001\n",
    "# note the increase from 89.6 seconds to seconds\n",
    "import time\n",
    "precision = 0.0001\n",
    "start = time.time()\n",
    "answer = squareRootOfTwo()\n",
    "end = time.time()\n",
    "print(str(round(end - start, 1)) + \" seconds taken\")\n",
    "# check how many places (inaccurate or otherwise)\n",
    "# this run of the algorithm calculated the root of 2 to\n",
    "for i in range(len(answer)):\n",
    "    if str(answer)[i] != \"0\":\n",
    "        x = 0\n",
    "    if str(answer)[i] == \"0\":\n",
    "               x+=1\n",
    "    if x == 4:\n",
    "        place = i-2-x\n",
    "        break\n",
    "print(\"Running our function so that the square of the calculated square root of two is between 1.999 and 2.001 provides an approximation of the square root of two to the \" + str(place) + \"th place.\")"
   ]
  },
  {
   "cell_type": "markdown",
   "metadata": {},
   "source": [
    "We can note two things from the running of our function with different precision demands:\n",
    "1. The number of decimal places remains the same (51) despite varying precision demands, indicating that there is a limit to the number of decimal places that a float is capable of storing.\n",
    "2. The computational expense of calculating the square root of two increases very quickly with respect to an increased demand for precision (from 0.0 seconds at 0.1 precision to 1.1 seconds at 0.001 precision to approximately 100 seconds at 0.0001 precision). If one tries to attain an even greater precision, one will see that the function simply times out, i.e. the precision cannot be attained by Python's float datatype.\n",
    "\n",
    "*The conclusion from this is thus that it is not possible to use the float datatype to calculate the square root of 2 to 100 decimal places."
   ]
  },
  {
   "cell_type": "code",
   "execution_count": 10,
   "metadata": {},
   "outputs": [],
   "source": [
    "# rewrite our function so that it calculates the square root\n",
    "# of 2*10**100000000, and then manipulate this using\n",
    "# string operations into the square root of two\n",
    "def squareRootOfTwo():\n",
    "    number = 2*10**200\n",
    "    # have the function take a guess\n",
    "    guess = number // 2\n",
    "    # while the guess is not of a sufficient accuracy,\n",
    "    # apply Newton's algorithm to improve it.\n",
    "    # This time, because we are dealing with very large\n",
    "    # numbers, it is not practical to check that the answer\n",
    "    # is precise. Instead, we will assume that after 1000\n",
    "    # iterations it is as precise as we need.\n",
    "    for i in range(1000):\n",
    "        # if greater than the precision, apply Newton's alogrithm\n",
    "        guess = guess - ((guess ** 2 - number) // (2 * guess))\n",
    "        # once the guess is sufficiently accurate the while\n",
    "        # loop ends. Now round the result to your liking\n",
    "    return guess"
   ]
  },
  {
   "cell_type": "code",
   "execution_count": 11,
   "metadata": {
    "scrolled": false
   },
   "outputs": [
    {
     "name": "stdout",
     "output_type": "stream",
     "text": [
      "1.414213562373095048801688724209698078569671875376948073176679737990732478462107038850387534327641572\n",
      "1.414213562373095048801688724209698078569671875376948073176679737990732478462107038850387534327641572\n",
      "True\n"
     ]
    }
   ],
   "source": [
    "import time\n",
    "precision = 10**100\n",
    "start = time.time()\n",
    "answer = squareRootOfTwo()\n",
    "end = time.time()\n",
    "# we only want the first 100 characters\n",
    "answer = list((str(answer)[:100]))\n",
    "finalanswer = []\n",
    "# the first character will be the same as answer\n",
    "finalanswer.append(answer[0])\n",
    "# the second will be a decimal point\n",
    "finalanswer.append(\".\")\n",
    "# now add the rest of the characters\n",
    "for i in range(1, len(answer)):\n",
    "    finalanswer.append(answer[i])\n",
    "# print our final answer\n",
    "print(\"\".join(finalanswer))\n",
    "# print NASA's calculation\n",
    "print(nasa[:101])\n",
    "# check if they are the same\n",
    "print(\"\".join(finalanswer) == nasa[:101])\n"
   ]
  },
  {
   "cell_type": "markdown",
   "metadata": {},
   "source": [
    "#### Task 2 November 2nd, 2020: \n",
    "The Chi-squared test for independence is a statistical\n",
    "hypothesis test like a t-test. It is used to analyse whether two categorical variables\n",
    "are independent. The Wikipedia article gives the table below as an example [4],\n",
    "stating the Chi-squared value based on it is approximately 24.6. Use scipy.stats\n",
    "to verify this value and calculate the associated p value. You should include a short\n",
    "note with references justifying your analysis in a markdown cell.\n",
    "\n",
    "<table>\n",
    "    <tr>\n",
    "        <td><td>\n",
    "        <td>A<td>\n",
    "        <td>B<td>\n",
    "        <td>C<td>\n",
    "        <td>D<td>\n",
    "        <td>Total<td>\n",
    "    <tr>\n",
    "    <tr>\n",
    "        <td>White Collar<td>\n",
    "        <td>90<td>\n",
    "        <td>60<td>\n",
    "        <td>104<td>\n",
    "        <td>95<td>\n",
    "        <td>349<td>\n",
    "    <tr>\n",
    "    <tr>\n",
    "        <td>Blue Collar<td>\n",
    "        <td>30<td>\n",
    "        <td>50<td>\n",
    "        <td>51<td>\n",
    "        <td>20<td>\n",
    "        <td>151<td>\n",
    "    <tr>\n",
    "    <tr>\n",
    "        <td>No Collar<td>\n",
    "        <td>30<td>\n",
    "        <td>40<td>\n",
    "        <td>45<td>\n",
    "        <td>35<td>\n",
    "        <td>150<td>\n",
    "    <tr>\n",
    "    <tr>\n",
    "        <td>Total<td>\n",
    "        <td>150<td>\n",
    "        <td>150<td>\n",
    "        <td>200<td>\n",
    "        <td>150<td>\n",
    "        <td>650<td>\n",
    "    <tr>\n",
    "<table>\n",
    "    \n",
    "\n",
    "<br>\n",
    "I will first simply use scipy.stats to find the chi-squared value and the corresponding p-value for this sample. One can achieve that without actually understanding how the chi-squared value is actually calculated.the chi2_contingency function can achieve this for us - it's only mandatory parameter is the array of frequencies for each category."
   ]
  },
  {
   "cell_type": "code",
   "execution_count": 10,
   "metadata": {},
   "outputs": [
    {
     "name": "stdout",
     "output_type": "stream",
     "text": [
      "chi^2 = 24.5712028585826\n",
      "p-value = 0.0004098425861096696\n",
      "As the p-value is less than 0.05, the null hypothesis, that the categories are independent, can be assumed to be false.\n"
     ]
    }
   ],
   "source": [
    "import numpy as np\n",
    "import scipy.stats as ss\n",
    "\n",
    "data = np.array([[90, 60, 104, 95],[30, 50, 51, 20],[30, 40, 45, 35]])\n",
    "\n",
    "chi2, p, dof, expected = ss.chi2_contingency(data)\n",
    "\n",
    "print(f\"chi^2 = {chi2}\")\n",
    "print(f\"p-value = {p}\")\n",
    "if p < 0.05:\n",
    "    print(\"As the p-value is less than 0.05, the null hypothesis, that the categories are independent, can be assumed to be false.\")"
   ]
  },
  {
   "cell_type": "markdown",
   "metadata": {},
   "source": [
    "As regards understanding what the chi-squared test achieves, its meaning is actually quite intuitive. This is in contrast to the chi-squared distribution, whose probability density function is certainly intimidating to look at, and mathematically depends on the gamma function - and many say that to understand the gamma function one must first understand the exponential and the poisson functions... Wikipedia's definition of the test is lucid:\n",
    "\n",
    "> The chi-squared test is a statistical test applied to sets of categorical data to evaluate how likely it is that any observed difference between the sets arose by chance [...] It tests a null hypothesis stating that the frequency distribution of certain events observed in a sample is consistent with a particular theoretical distribution. The events considered must be mutually exclusive and have total probability [1].\n",
    "\n",
    "For example, when we flip a coin, the result is either heads or tails, not both - this covers mutual exclusivity. The result also *must* be either heads or tails, meaning that the probability of heads coming up and that of tails coming up equals 1. Of course, we know that a standard coin has a .5 chance of turning up heads, and .5 chance of turning up tails. Thus, if we flip a coin 100 times, and we get 65 heads and 35 tails, we could use the chi-squared test to evaluate whether the disparity between this and the expected 50/50 outcome should be put down to chance or not. Basically, the chi-squared test may inform us that the disparity would highly unlikely to be down to chance, and it may be that the coin is not evenly weighted, for example.\n",
    "\n",
    "The chi-squares test operates then by calculating the chi-squared value of a sample, or number of samples. To get this value, we must first calculate a value that represents the variance between the expected frequency of a category in question with the actual frequency observed in the sample. The formula for this is:\n",
    "$$\\frac{(expected value - actual value)^2}{expected value}$$\n",
    "\n",
    "This formula is very similar to that for standard deviation, as we would expect, because we are here calculating a kind of variance between the expected and actual frequencies in the sample. To obtain the chi-squared value, we then just sum the 'variance' of each category in each sample:\n",
    "\n",
    "$${\\displaystyle \\chi ^{2}=\\sum _{i=1}^{n}{\\frac {(O_{i}-E_{i})^{2}}{E_{i}}}}$$\n",
    "\n",
    "\n",
    "There are two further things that are important to grasp when understanding how we evaluate the chi-squared value to actually carry out the chi-squared test.\n",
    "1. The higher the chi-squared value, the higher the 'variance' between the expected and actual frequencies for the categories, and thus the higher likelihood that the null hypothesis is false.\n",
    "1. Because the chi-squared value is the sum of the 'variances' for each category and sample, more categories and samples will lead to a higher chi-squared value.\n",
    "\n",
    "When one considers both of the above, it is clear that one must evaluate the chi-squared value differently for different numbers of categories and samples. Thus, while the chi-squared value represents our test-statistic, to obtain the more meaningful 'p-value', we must factor in what are know as the 'degrees of freedom,' which can be calculated from the number of categories and samples. If one looks at the table above, one can see that apart form the first and last rows and columns, each row represents a category, and each column a sample. Basically, the degrees of freedom is the number of pieces of data that we need in order to calculate our test-statistic, here the chi-squared value. In this case, we need $(rows - 1)(columns - 1)$ pieces of data, because (assuming we know the total number of datapoints for each category and the total number of datapoints in each sample, which is a safe assumption) we can calculate the frequency of any one category in any one sample by either subtracting the frequencies of the other categories from the total in that sample, or subtracting the frequencies of the category in the other samples from the total datapoints for that category. Thus, for our coin example, the degrees of freedom would be $(2-1)(2-1) = 2$. \n",
    "\n",
    "Once we are equipped with the chi-squared value and the degrees of freedom, we are then able to plot the probability density function for a chi-squared-distribution with those degrees of freedom. Then, we calculate the area under the function and to the left of the calculated chi-squared value (represented by the x-axis), and if that area is less than 0.95, we can reject the null hypothesis (or accept if greater). This is essentially how the p-value of the test is calculated: $1 - area = Pvalue$.\n",
    "\n",
    "Once the purpose and meaning of the chi-squared test is understood, the actual chi-squared distribution becomes much more manageable. In particular, the manner in which the pdf changes with changing degrees of freedom becomes actually intuitively understandable, as the chi-squared value has been shown above to increase with increasing degrees of freedom.\n",
    "\n",
    "\n",
    "References\n",
    "[1] https://en.wikipedia.org/wiki/Pearson%27s_chi-squared_test\n",
    "\n",
    "[2] https://python-bloggers.com/2020/09/how-to-run-chi-square-test-in-python/"
   ]
  },
  {
   "cell_type": "markdown",
   "metadata": {},
   "source": [
    "#### Task 3 November 16th, 2020\n",
    "The standard deviation of an array of numbers x is\n",
    "calculated using numpy as np.sqrt(np.sum((x - np.mean(x))**2)/len(x)) .\n",
    "However, Microsoft Excel has two different versions of the standard deviation calculation, STDDEV.P and STDDEV.S . The STDDEV.P function performs the above\n",
    "calculation but in the STDDEV.S calculation the division is by len(x)-1 rather\n",
    "than len(x) . Research these Excel functions, writing a note in a Markdown cell\n",
    "about the difference between them. Then use numpy to perform a simulation\n",
    "demonstrating that the STDDEV.S calculation is a better estimate for the standard deviation of a population when performed on a sample. Note that part of\n",
    "this task is to figure out the terminology in the previous sentence.\n",
    "\n",
    "#### Research\n",
    "Like many statistical phenomena, there is both a mathematical and intuitive explanation of why when calculating the standard deviation of a sample we divide the sum of the squared distances of each point from the sample mean (i.e the variance) from the size of the sample minus one rather than simply the size of the sample. I will here eschew the mathematical explanation in favour of the intuitive. I have taken this intuitive explanation mostly from this video [1].\n",
    "\n",
    "Firstly, one must understand the difference between a population and its sample:\n",
    "\n",
    "* A population is a complete set of data.\n",
    "* A sample is a sample from a population, and thus is an incomplete set of data.\n",
    "\n",
    "Secondly, one must understand how variance is calculated:\n",
    "* Variance is a measure of the spread of a dataset, and is measured as a sum of each the datapoint's distances from the mean squared.\n",
    "* The distances are squared for two reasons: (1) to avoid a situation where the negative and positive distances from the mean would simply cancel each other and the variance would be zero - by squaring the distances from the mean the result will always be positive and there will be no cancellingo out; (2) to align with what are called the statistical moments of a distribution, which is a topic for another day.\n",
    "* If you still think that squaring the distances seems somewhat artificial, then you are correct to the extent that variance in itself is not a very meaningful value. It is only when one reduces it by dividing by a certain factor and then getting the square root of the result (thereby to a certain extent undoing the previous squaring of the distances) that one arrives at an intrinsically meaningful value - the standard deviation, which represents how much individual values tend to deviate from the mean.\n",
    "\n",
    "With an understanding of the difference between a population and a sample, and how variance is calculated, understanding \n",
    "Because a sample is an incomplete version of a population, statistical phenomena that are derived from the entirety of a dataset's data points, such as the mean, are likely to be different in the population and the sample because there are data points in the population that are missing in the sample. As suggested above, when calculating the variance of a sample/population, we first need to calculate the sample/population mean. This is simply because the mean is involved in the calculation of variance, as variance is a measure of the data points' distance from the mean. Now this the key thing to understand: if one calculates the mean of a sample and then calculates the variance, *and if one then artifically changes the mean in anyway without changing the datapoints and then recalculates the variance using that artificial mean, this new variance will always be greater than the originally calculated variance.* This because the mean is calculated in such a way that it minimizes the total distance of data points from itself and is as much as possible equidistant from all the datapoints (it is a kind of middle value).\n",
    "\n",
    "As we said above, the population mean is almost always different from the sample mean. This means that the sample variance from the population mean will always be greater than the sample variance from the sample mean. To counteract this bias in the sample variance, we  decrease the value of the denominator when calculating the standard deviation so that its value larger than it would have been had we not decreased it. Thus, instead of dividing by n, we divide be n - 1. But why n - 1?\n",
    "\n",
    "The reason for the choice of -1 is somewhat less intuitive, although related to the foregoing. It involves what are called degrees of freedom. The degrees of freedom represents the number of data points that are 'free to move', or are independent.\n",
    "\n",
    "Take a univariate dataset, i.e. where there is one variable, of which we know the mean. In a sample from the population, each new datapoint, i.e. each value that the variable takes on, is independent of the population value. This is because the population cannot be in any way used to calculate the values in the sample (it might suggest ranges for values, but not actually values themselves.). This means that the degrees of freedom of a population is always the size of the population, n. If we take the *sample* mean, however, the situation is different. Here, in a sense there is no longer a one-way relationship where the mean is derived from the values but not the other way around. This is because if we know all but one of the values in the sample as well as the sample mean, then we also can *derive* the remaining value. This means that the remaining value is actually not independent - it is not 'free.' As such, the degrees of freedom of the sample is the size of the sample minus one, n - 1. When we calculate standard deviation, we divide not by the size of the dataset but by the degrees of freedom. In the case of populations, this just happens to equal the size of the dataset. It is also worth mentioning that the same coincidence happens when first calculating the sample mean. Because at that point we do not know the mean, then every value is free and cannot be derived from any other value available to us - hence the degrees of freedom in that case is equal also the sample size.\n",
    "\n",
    "To demonstrate that dividing by the degrees of freedom provides a more accurate standard deviation value than dividing by the size of the sample, I will do the following:\n",
    "\n",
    "1. Simulate a normally distribute dataset using numpy.random's normal() function, which takes in the standard deviation as a parameter.\n",
    "1. Manually calculate the standard deviation of the population according to both the population and sample formulas. The population formula should be closer to the inputted standard deviation.\n",
    "\n",
    "[1] https://www.youtube.com/watch?v=wpY9o_OyxoQ"
   ]
  },
  {
   "cell_type": "code",
   "execution_count": 60,
   "metadata": {},
   "outputs": [
    {
     "name": "stdout",
     "output_type": "stream",
     "text": [
      "Actual standard deviation is 70\n",
      "Standard deviation calculated using the population formula is: 69.75789029982327\n",
      "Standard deviation calculated using the sample formula is: 69.7507222835877\n",
      "When calculating the standard deviation of a population, the population formula produced the most accurate result\n",
      "\n",
      "Taking a sample of size 316 from the population, the results are as follows:\n",
      "\n",
      "Standard deviation calculated using the population formula is: 62.17862208428696\n",
      "Standard deviation calculated using the sample formula is: 62.17058021524793\n",
      "When calculating the standard deviation of a sample, the population formula produced the result closest to the standard deviation of the population.\n"
     ]
    }
   ],
   "source": [
    "import numpy as np\n",
    "import math\n",
    "rng = np.random.default_rng()\n",
    "\n",
    "mu, sigma, n = 100, 70, 100000 # mean, standard deviation and size\n",
    "norm = rng.normal(mu, sigma, n)\n",
    "print(f'Actual standard deviation is {sigma}')\n",
    "\n",
    "popstd = np.sqrt((sum(abs(norm - mu)**2))/n)\n",
    "print(f'Standard deviation calculated using the population formula is: {popstd}')\n",
    "\n",
    "sampstd = np.sqrt((sum(abs(norm - mu)**2))/n-1)\n",
    "print(f'Standard deviation calculated using the sample formula is: {sampstd}')\n",
    "\n",
    "if abs(sigma - popstd) < abs(sigma - sampstd):\n",
    "    print('When calculating the standard deviation of a population, the population formula produced the most accurate result\\n')\n",
    "else:\n",
    "    print('When calculating the standard deviation of a population, the sample formula produced the most accurate result\\n')\n",
    "    \n",
    "n = int(n/math.sqrt(n))\n",
    "print(f'Taking a sample of size {n} from the population, the results are as follows:\\n')\n",
    "norm = np.random.choice(norm, size=n)\n",
    "popstd = np.sqrt(np.sum((norm - np.mean(norm))**2)/len(norm))\n",
    "print(f'Standard deviation calculated using the population formula is: {popstd}')\n",
    "\n",
    "sampstd = np.sqrt(np.sum((norm - np.mean(norm))**2)/len(norm)-1)\n",
    "print(f'Standard deviation calculated using the sample formula is: {sampstd}')\n",
    "\n",
    "if abs(sigma - popstd) < abs(sigma - sampstd):\n",
    "    print('When calculating the standard deviation of a sample, the population formula produced the result closest to the standard deviation of the population.')\n",
    "else:\n",
    "    print('When calculating the standard deviation of a sample, the sample formula produced the result closest to the standard deviation of the population')"
   ]
  },
  {
   "cell_type": "code",
   "execution_count": null,
   "metadata": {},
   "outputs": [],
   "source": []
  },
  {
   "cell_type": "code",
   "execution_count": null,
   "metadata": {},
   "outputs": [],
   "source": []
  }
 ],
 "metadata": {
  "kernelspec": {
   "display_name": "Python 3",
   "language": "python",
   "name": "python3"
  },
  "language_info": {
   "codemirror_mode": {
    "name": "ipython",
    "version": 3
   },
   "file_extension": ".py",
   "mimetype": "text/x-python",
   "name": "python",
   "nbconvert_exporter": "python",
   "pygments_lexer": "ipython3",
   "version": "3.7.4"
  }
 },
 "nbformat": 4,
 "nbformat_minor": 2
}
