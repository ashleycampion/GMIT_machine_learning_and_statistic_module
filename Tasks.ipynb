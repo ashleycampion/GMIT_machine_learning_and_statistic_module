{
 "cells": [
  {
   "cell_type": "markdown",
   "metadata": {},
   "source": [
    "# Tasks\n",
    "### This workbook contains my solutions to the tasks for the Machine Learning and Statistics Module"
   ]
  },
  {
   "cell_type": "markdown",
   "metadata": {},
   "source": [
    "\n",
    "\n",
    "\n",
    "\n",
    "#### Task 1 - October 5th, 2020 \n",
    "Write a Python function called sqrt2 that calculates and prints to the screen the square root of 2 to 100 decimal places. Your code should not depend on any module from the standard library or otherwise. You should research the task first and include references and a description of your algorithm.\n",
    "#### Research\n",
    "Newton's method [1] can be used to calculate the square root of a number by first taking a guess and then iteratively moving closer toward the actual square root. According to Newton's method, one can approach further toward the square root of a number, x, from an initial guess of the square root, z, as follows:\n",
    "\n",
    "$$ z_{next} = z - \\frac{z^2-x}{2z} $$\n",
    "\n",
    "Newton's method is of course straightforward to program in Python - one uses Python's operators (-, * and /) to perform each instance of the calculation, and then one instructs the program to keep performing the calculation, using the output of the previous instance as the input to the next, until the square of the output is however close to the number that one is trying to get the square root of (one could say to within 0.001, for example). One would then specify to how many decimal places one would like one's calculated root to have, in this instance, 100.\n",
    "\n",
    "However, there are two impediments to calculating the square root of 2 to a precision to 100 decimal places without using any Python modules, as anyone who tries will quickly find out:\n",
    "1. Decimal point numbers do not have exact representations in binary floating point, which is essentially what Python's float datatype is, and which is the only datatype available for displaying decimal numbers in Python without the use of modules such as Decimal [2]. This means that we will not likely be able to achieve the accuracy required to display the square root of two to 100 decimal places with precision, i.e. exactly, as in order to do so we would have to perform many very precise calculations involving floating point numbers, which are themselves by definition not exact, i.e. imprecise.\n",
    "2. Python is simply not able to store 100 decimal places in a floating point number\n",
    "\n",
    "It is important to note, however, that the problem is not with the Python operators (-, * and /) or loops, but only the float datatype itself. This means that if we could somehow use the other numerical datatype that does not need to be imported in Python, i.e. the integer, to perform the calculation, we should not have a problem - except, that is, for the fact that the integer datatype by does not cater to decimal places.\n",
    "\n",
    "The trick, then, is to forget about decimal places during the calculation itself, and then insert the decimal place afterwards using the string datatype. What if, instead of calculating the square root of two, we calculated the first hundred digits of the square root of: $$2\\times10^{100000000}$$\n",
    "\n",
    "Looking at the two numbers as strings, the only difference would be that one has a '.' and the other does not; and because integers have exact representations in Python's integer datatype, we should not come across any imprecision as we would have using the float datatype.\n",
    "\n",
    "What will thus been shown as part of my solution is as follows:\n",
    "1. Python's Math module's sqrt function is not accurate to the 100th decimal place (we will use NASA's calculation of the root of 2 to ~ million decimal places as our comparison [3]), nor is it able to even provide 100 decimal places. From this we can infer that the inaccuracy resides in thh datatype used by this function, namely, the float.\n",
    "2. Python's Decimal module's sqrt function is accurate to 100 decimal places, again indicating that Python's float datatype is what is at issue above.\n",
    "3. Python's float datatype cannot calculate the square root of two such that the difference between the actual root squared and the calculated root squared is less than .0001.\n",
    "4. The square root of two can be calculated by using the integer datatype to calculate the square root of *2\\*10^100000000* and then converting it to a string, slicing to retain only the first 100 characters, and then dutifully inserting the decimal point.\n",
    "\n",
    "\n",
    "[1] https://mathworld.wolfram.com/NewtonsMethod.html\n",
    "\n",
    "[2] https://docs.python.org/2/library/decimal.html\n",
    "\n",
    "[3] https://stackoverflow.com/questions/22162522/how-to-display-a-decimal-number-to-100-decimal-places"
   ]
  },
  {
   "cell_type": "code",
   "execution_count": 1,
   "metadata": {},
   "outputs": [
    {
     "data": {
      "text/plain": [
       "2.0000000000000004"
      ]
     },
     "execution_count": 1,
     "metadata": {},
     "output_type": "execute_result"
    }
   ],
   "source": [
    "# hint at the inaccuracy of the sqrt function in the\n",
    "# Math module, which uses floats\n",
    "from math import sqrt\n",
    "sqrt(2)**2"
   ]
  },
  {
   "cell_type": "code",
   "execution_count": 2,
   "metadata": {},
   "outputs": [
    {
     "name": "stdout",
     "output_type": "stream",
     "text": [
      "1.4142135623730951454746218587388284504413604736328125000000000000000000000000000000000000000000000000\n",
      "100\n"
     ]
    }
   ],
   "source": [
    "# print the Math module's square root of 2 to 100\n",
    "# decimal places\n",
    "answer = \"%.100f\" % sqrt(2)\n",
    "print(answer)\n",
    "# confirm that there are 100 decimal places\n",
    "print(len(str((answer))) - 2)"
   ]
  },
  {
   "cell_type": "code",
   "execution_count": 3,
   "metadata": {},
   "outputs": [
    {
     "name": "stdout",
     "output_type": "stream",
     "text": [
      "Python's Math module's sqrt function is accurate to the 15th place, although it provides an answer to the 51th place.\n"
     ]
    }
   ],
   "source": [
    "# we will take NASA's calculation of the root of 2\n",
    "# as accurate to 100 decimal places\n",
    "nasa = \"1.41421356237309504880168872420969807856967187537694807317667973799073247846210703885038753432764157273501384623091229702492483605585073721264412149709993583141322266592750559275579995050115278206057147010955997160597027453459686201472851...\"\n",
    "nasa = nasa[:101]\n",
    "# check at which decimal place the Math module\n",
    "# becomes inaccurate, and thus floats likely\n",
    "# become inaccurate\n",
    "for i in range(102):\n",
    "    if str(answer)[i] != nasa[i]:\n",
    "        accuracy = i - 2\n",
    "        break\n",
    "# check how many places (inaccurate or otherwise)\n",
    "# the math module can calculate the root of 2 to\n",
    "for i in range(102):\n",
    "    if str(answer)[i] != \"0\":\n",
    "        x = 0\n",
    "    if str(answer)[i] == \"0\":\n",
    "               x+=1\n",
    "    if x == 4:\n",
    "        place = i-2-x\n",
    "        break\n",
    "print(\"Python's Math module's sqrt function is accurate to the \" + str(accuracy) + \"th place, although it provides an answer to the \" + str(place) + \"th place.\")"
   ]
  },
  {
   "cell_type": "code",
   "execution_count": 4,
   "metadata": {},
   "outputs": [
    {
     "name": "stdout",
     "output_type": "stream",
     "text": [
      "1.414213562373095048801688724209698078569671875376948073176679737990732478462107038850387534327641572\n",
      "1.414213562373095048801688724209698078569671875376948073176679737990732478462107038850387534327641573\n",
      "True\n"
     ]
    }
   ],
   "source": [
    "# show that the Decimal module can calculate the\n",
    "# square root of 2 to 100 decimal places, by \n",
    "# comparing with NASA's figure, above\n",
    "from decimal import Decimal, getcontext\n",
    "# set the decimal point precision to 100\n",
    "getcontext().prec = 100\n",
    "# get the decimal square root of 3\n",
    "Decimal(2).sqrt()\n",
    "print(nasa)\n",
    "print(Decimal(2).sqrt())\n",
    "# as the NASA has not been rounded, \n",
    "# we will check the first 99 decimal values\n",
    "# for simplicity instead\n",
    "print(str(Decimal(2).sqrt())[:100] == nasa[:100])"
   ]
  },
  {
   "cell_type": "code",
   "execution_count": 5,
   "metadata": {},
   "outputs": [
    {
     "data": {
      "text/plain": [
       "Decimal('-4.44089209850062616169452667236328125E-16')"
      ]
     },
     "execution_count": 5,
     "metadata": {},
     "output_type": "execute_result"
    }
   ],
   "source": [
    "# Find the difference between 2 and the square root of 2\n",
    "# to a hundred decimal places squared\n",
    "# note that this number is far smaller than that for\n",
    "# the Math module's function (.0000000000000004)\n",
    "Decimal(2 - 1.414213562373095048801688724209698078569671875376948073176679737990732478462107038850387534327641573 ** 2)"
   ]
  },
  {
   "cell_type": "code",
   "execution_count": 6,
   "metadata": {},
   "outputs": [],
   "source": [
    "# design an algorithm implementing Newton's Method\n",
    "# Newton's method: better guess = 0.5 * (guess + number / guess)\n",
    "# store the desired precision in a variable\n",
    "# we decide on the precision outside of the function itself\n",
    "# as the requirements of the question do not indicate\n",
    "# that precision should be inputted as a parameter to the function\n",
    "def squareRootOfTwo():\n",
    "    # store 2 in a variable so that we are not\n",
    "    number = 2\n",
    "    # hardcoding values\n",
    "    # have the function take a guess\n",
    "    guess = 1.5\n",
    "    # while the guess is not of a sufficient accuracy,\n",
    "    # apply Newton's algorithm to improve it.\n",
    "    # To check the accuracy of the guess, square it and\n",
    "    # check if the absolute difference between the result \n",
    "    # and the input is less than the desired precision.\n",
    "    while abs(guess ** 2 - number) > precision:\n",
    "        # if greater than the precision, apply Newton's alogrithm\n",
    "        guess = guess - ((guess ** 2 - number) / 2 * guess)\n",
    "        # once the guess is sufficiently accurate the while\n",
    "        # loop ends. Now round the result to your liking\n",
    "    print(\"%.100f\" % guess)\n",
    "    return str(answer)"
   ]
  },
  {
   "cell_type": "code",
   "execution_count": 7,
   "metadata": {},
   "outputs": [
    {
     "name": "stdout",
     "output_type": "stream",
     "text": [
      "1.4177445877362315762582056777318939566612243652343750000000000000000000000000000000000000000000000000\n",
      "0.0 seconds taken\n",
      "Running our function so that the square of the calculated square root of two is between 1.9 and 2.1 provides an approximation of the square root of two to the 51th place.\n"
     ]
    }
   ],
   "source": [
    "# Now we will test Newton's method for calculating\n",
    "# the square of two, and time the calculation\n",
    "import time\n",
    "precision = 0.01\n",
    "start = time.time()\n",
    "answer = squareRootOfTwo()\n",
    "end = time.time()\n",
    "print(str(round(end - start, 1)) + \" seconds taken\")\n",
    "# check how many places (inaccurate or otherwise)\n",
    "# this run of the algorithm calculated the root of 2 to\n",
    "for i in range(len(answer)):\n",
    "    if str(answer)[i] != \"0\":\n",
    "        x = 0\n",
    "    if str(answer)[i] == \"0\":\n",
    "               x+=1\n",
    "    if x == 4:\n",
    "        place = i-2-x\n",
    "        break\n",
    "print(\"Running our function so that the square of the calculated square root of two is between 1.9 and 2.1 provides an approximation of the square root of two to the \" + str(place) + \"th place.\")"
   ]
  },
  {
   "cell_type": "code",
   "execution_count": 8,
   "metadata": {},
   "outputs": [
    {
     "name": "stdout",
     "output_type": "stream",
     "text": [
      "1.4145670714723390659628421417437493801116943359375000000000000000000000000000000000000000000000000000\n",
      "1.0 seconds taken\n",
      "Running our function so that the square of the calculated square root of two is between 1.99 and 2.01 provides an approximation of the square root of two to the 51th place.\n"
     ]
    }
   ],
   "source": [
    "# Same again but to a precision of 0.001\n",
    "# note the increase from 89.6 seconds to seconds\n",
    "import time\n",
    "precision = 0.001\n",
    "start = time.time()\n",
    "answer = squareRootOfTwo()\n",
    "end = time.time()\n",
    "print(str(round(end - start, 1)) + \" seconds taken\")\n",
    "# check how many places (inaccurate or otherwise)\n",
    "# this run of the algorithm calculated the root of 2 to\n",
    "for i in range(len(answer)):\n",
    "    if str(answer)[i] != \"0\":\n",
    "        x = 0\n",
    "    if str(answer)[i] == \"0\":\n",
    "               x+=1\n",
    "    if x == 4:\n",
    "        place = i-2-x\n",
    "        break\n",
    "print(\"Running our function so that the square of the calculated square root of two is between 1.99 and 2.01 provides an approximation of the square root of two to the \" + str(place) + \"th place.\")"
   ]
  },
  {
   "cell_type": "code",
   "execution_count": 9,
   "metadata": {
    "scrolled": true
   },
   "outputs": [
    {
     "name": "stdout",
     "output_type": "stream",
     "text": [
      "1.4142489172699921340381479240022599697113037109375000000000000000000000000000000000000000000000000000\n",
      "90.0 seconds taken\n",
      "Running our function so that the square of the calculated square root of two is between 1.999 and 2.001 provides an approximation of the square root of two to the 51th place.\n"
     ]
    }
   ],
   "source": [
    "# Same again but to a precision of 0.0001\n",
    "# note the increase from 89.6 seconds to seconds\n",
    "import time\n",
    "precision = 0.0001\n",
    "start = time.time()\n",
    "answer = squareRootOfTwo()\n",
    "end = time.time()\n",
    "print(str(round(end - start, 1)) + \" seconds taken\")\n",
    "# check how many places (inaccurate or otherwise)\n",
    "# this run of the algorithm calculated the root of 2 to\n",
    "for i in range(len(answer)):\n",
    "    if str(answer)[i] != \"0\":\n",
    "        x = 0\n",
    "    if str(answer)[i] == \"0\":\n",
    "               x+=1\n",
    "    if x == 4:\n",
    "        place = i-2-x\n",
    "        break\n",
    "print(\"Running our function so that the square of the calculated square root of two is between 1.999 and 2.001 provides an approximation of the square root of two to the \" + str(place) + \"th place.\")"
   ]
  },
  {
   "cell_type": "markdown",
   "metadata": {},
   "source": [
    "We can note two things from the running of our function with different precision demands:\n",
    "1. The number of decimal places remains the same (51) despite varying precision demands, indicating that there is a limit to the number of decimal places that a float is capable of storing.\n",
    "2. The computational expense of calculating the square root of two increases very quickly with respect to an increased demand for precision (from 0.0 seconds at 0.1 precision to 1.1 seconds at 0.001 precision to approximately 100 seconds at 0.0001 precision). If one tries to attain an even greater precision, one will see that the function simply times out, i.e. the precision cannot be attained by Python's float datatype.\n",
    "\n",
    "*The conclusion from this is thus that it is not possible to use the float datatype to calculate the square root of 2 to 100 decimal places."
   ]
  },
  {
   "cell_type": "code",
   "execution_count": 10,
   "metadata": {},
   "outputs": [],
   "source": [
    "# rewrite our function so that it calculates the square root\n",
    "# of 2*10**100000000, and then manipulate this using\n",
    "# string operations into the square root of two\n",
    "def squareRootOfTwo():\n",
    "    number = 2*10**200\n",
    "    # have the function take a guess\n",
    "    guess = number // 2\n",
    "    # while the guess is not of a sufficient accuracy,\n",
    "    # apply Newton's algorithm to improve it.\n",
    "    # This time, because we are dealing with very large\n",
    "    # numbers, it is not practical to check that the answer\n",
    "    # is precise. Instead, we will assume that after 1000\n",
    "    # iterations it is as precise as we need.\n",
    "    for i in range(1000):\n",
    "        # if greater than the precision, apply Newton's alogrithm\n",
    "        guess = guess - ((guess ** 2 - number) // (2 * guess))\n",
    "        # once the guess is sufficiently accurate the while\n",
    "        # loop ends. Now round the result to your liking\n",
    "    return guess"
   ]
  },
  {
   "cell_type": "code",
   "execution_count": 11,
   "metadata": {
    "scrolled": false
   },
   "outputs": [
    {
     "name": "stdout",
     "output_type": "stream",
     "text": [
      "1.414213562373095048801688724209698078569671875376948073176679737990732478462107038850387534327641572\n",
      "1.414213562373095048801688724209698078569671875376948073176679737990732478462107038850387534327641572\n",
      "True\n"
     ]
    }
   ],
   "source": [
    "import time\n",
    "precision = 10**100\n",
    "start = time.time()\n",
    "answer = squareRootOfTwo()\n",
    "end = time.time()\n",
    "# we only want the first 100 characters\n",
    "answer = list((str(answer)[:100]))\n",
    "finalanswer = []\n",
    "# the first character will be the same as answer\n",
    "finalanswer.append(answer[0])\n",
    "# the second will be a decimal point\n",
    "finalanswer.append(\".\")\n",
    "# now add the rest of the characters\n",
    "for i in range(1, len(answer)):\n",
    "    finalanswer.append(answer[i])\n",
    "# print our final answer\n",
    "print(\"\".join(finalanswer))\n",
    "# print NASA's calculation\n",
    "print(nasa[:101])\n",
    "# check if they are the same\n",
    "print(\"\".join(finalanswer) == nasa[:101])\n"
   ]
  },
  {
   "cell_type": "code",
   "execution_count": null,
   "metadata": {},
   "outputs": [],
   "source": []
  }
 ],
 "metadata": {
  "kernelspec": {
   "display_name": "Python 3",
   "language": "python",
   "name": "python3"
  },
  "language_info": {
   "codemirror_mode": {
    "name": "ipython",
    "version": 3
   },
   "file_extension": ".py",
   "mimetype": "text/x-python",
   "name": "python",
   "nbconvert_exporter": "python",
   "pygments_lexer": "ipython3",
   "version": "3.7.4"
  }
 },
 "nbformat": 4,
 "nbformat_minor": 2
}
